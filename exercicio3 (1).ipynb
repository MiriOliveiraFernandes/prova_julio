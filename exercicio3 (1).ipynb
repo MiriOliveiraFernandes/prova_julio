{
 "cells": [
  {
   "cell_type": "code",
   "execution_count": 6,
   "id": "035d24f9-edad-4b24-8ace-c8b21e30f220",
   "metadata": {},
   "outputs": [
    {
     "data": {
      "text/plain": [
       "array([[20, 25, 35, 40, 45, 50, 55, 60, 65, 70],\n",
       "       [30, 35, 40, 45, 50, 50, 55, 55, 60, 60],\n",
       "       [15, 20, 25, 30, 35, 40, 45, 50, 55, 60],\n",
       "       [10, 15, 25, 35, 45, 50, 55, 60, 65, 70]])"
      ]
     },
     "execution_count": 6,
     "metadata": {},
     "output_type": "execute_result"
    }
   ],
   "source": [
    "import numpy as np\n",
    "\n",
    "\n",
    "uso_cpu = np.array([[20, 25, 40, 50, 45, 60, 55, 35, 70, 65],\n",
    "              [30, 35, 50, 60, 40, 55, 60, 45, 50, 55],\n",
    "              [15, 20, 30, 25, 35, 40, 45, 50, 55, 60],\n",
    "              [10, 15, 25, 35, 45, 50, 55, 60, 65, 70]])\n",
    "def dados_crescente(lista):\n",
    "    for l in range(np.shape(uso_cpu)[0]):\n",
    "        uso_cpu[l].sort()\n",
    "    return uso_cpu\n",
    "dados_crescente(uso_cpu)"
   ]
  }
 ],
 "metadata": {
  "kernelspec": {
   "display_name": "Python 3 (ipykernel)",
   "language": "python",
   "name": "python3"
  },
  "language_info": {
   "codemirror_mode": {
    "name": "ipython",
    "version": 3
   },
   "file_extension": ".py",
   "mimetype": "text/x-python",
   "name": "python",
   "nbconvert_exporter": "python",
   "pygments_lexer": "ipython3",
   "version": "3.12.7"
  }
 },
 "nbformat": 4,
 "nbformat_minor": 5
}
