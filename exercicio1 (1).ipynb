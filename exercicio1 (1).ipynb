{
 "cells": [
  {
   "cell_type": "code",
   "execution_count": null,
   "id": "7489b657-fffb-4ad2-951f-6e01891151bf",
   "metadata": {},
   "outputs": [],
   "source": [
    "import numpy as np\n",
    "\n",
    "\n",
    "uso_cpu = np.array([[20, 25, 40, 50, 45, 60, 55, 35, 70, 65],\n",
    "              [30, 35, 50, 60, 40, 55, 60, 45, 50, 55],\n",
    "              [15, 20, 30, 25, 35, 40, 45, 50, 55, 60],\n",
    "              [10, 15, 25, 35, 45, 50, 55, 60, 65, 70]])\n",
    "np.shape(uso_cpu)\n",
    "for l in range(np.shape(uso_cpu)[0]):\n",
    "  somalinha = 0\n",
    "  somalinha = round(sum(uso_cpu[l])/len(uso_cpu[l]),2)\n",
    "  print(somalinha)"
   ]
  },
  {
   "cell_type": "code",
   "execution_count": null,
   "id": "7d7886ff-ec6d-475f-9d02-b4545a4d95f0",
   "metadata": {},
   "outputs": [],
   "source": []
  }
 ],
 "metadata": {
  "kernelspec": {
   "display_name": "Python 3 (ipykernel)",
   "language": "python",
   "name": "python3"
  },
  "language_info": {
   "codemirror_mode": {
    "name": "ipython",
    "version": 3
   },
   "file_extension": ".py",
   "mimetype": "text/x-python",
   "name": "python",
   "nbconvert_exporter": "python",
   "pygments_lexer": "ipython3",
   "version": "3.12.7"
  }
 },
 "nbformat": 4,
 "nbformat_minor": 5
}
