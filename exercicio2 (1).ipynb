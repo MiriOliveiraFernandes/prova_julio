{
 "cells": [
  {
   "cell_type": "code",
   "execution_count": 15,
   "id": "721fe7a9-cef9-456f-94a7-2368a5e29da6",
   "metadata": {},
   "outputs": [
    {
     "data": {
      "text/plain": [
       "(4, 10)"
      ]
     },
     "execution_count": 15,
     "metadata": {},
     "output_type": "execute_result"
    }
   ],
   "source": [
    "import numpy as np\n",
    "\n",
    "\n",
    "uso_cpu = np.array([[20, 25, 40, 50, 45, 60, 55, 35, 70, 65],\n",
    "              [30, 35, 50, 60, 40, 55, 60, 45, 50, 55],\n",
    "              [15, 20, 30, 25, 35, 40, 45, 50, 55, 60],\n",
    "              [10, 15, 25, 35, 45, 50, 55, 60, 65, 70]])\n",
    "np.shape(uso_cpu)"
   ]
  },
  {
   "cell_type": "code",
   "execution_count": 22,
   "id": "7736f08c-9441-4485-b60b-3bf24f9ee729",
   "metadata": {},
   "outputs": [],
   "source": [
    "def alerta_uso(lista,parametro):\n",
    "    for l in range(lista.shape[0]):\n",
    "        for c in range(lista.shape[1]):\n",
    "            if lista[l,c] >= parametro:\n",
    "                return True\n",
    "    else:\n",
    "        return False"
   ]
  },
  {
   "cell_type": "code",
   "execution_count": 26,
   "id": "f0e20579-f644-4f94-bcb4-6d30b5e92afa",
   "metadata": {},
   "outputs": [
    {
     "data": {
      "text/plain": [
       "False"
      ]
     },
     "execution_count": 26,
     "metadata": {},
     "output_type": "execute_result"
    }
   ],
   "source": [
    "alerta_uso(uso_cpu,85)"
   ]
  }
 ],
 "metadata": {
  "kernelspec": {
   "display_name": "Python 3 (ipykernel)",
   "language": "python",
   "name": "python3"
  },
  "language_info": {
   "codemirror_mode": {
    "name": "ipython",
    "version": 3
   },
   "file_extension": ".py",
   "mimetype": "text/x-python",
   "name": "python",
   "nbconvert_exporter": "python",
   "pygments_lexer": "ipython3",
   "version": "3.12.7"
  }
 },
 "nbformat": 4,
 "nbformat_minor": 5
}
